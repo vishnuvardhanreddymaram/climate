{
  "nbformat": 4,
  "nbformat_minor": 0,
  "metadata": {
    "colab": {
      "provenance": [],
      "authorship_tag": "ABX9TyNAW2M7v2C5A88HiPfR7sD8",
      "include_colab_link": true
    },
    "kernelspec": {
      "name": "python3",
      "display_name": "Python 3"
    },
    "language_info": {
      "name": "python"
    }
  },
  "cells": [
    {
      "cell_type": "markdown",
      "metadata": {
        "id": "view-in-github",
        "colab_type": "text"
      },
      "source": [
        "<a href=\"https://colab.research.google.com/github/vishnuvardhanreddymaram/climate/blob/main/Untitled3.ipynb\" target=\"_parent\"><img src=\"https://colab.research.google.com/assets/colab-badge.svg\" alt=\"Open In Colab\"/></a>"
      ]
    },
    {
      "cell_type": "code",
      "execution_count": 1,
      "metadata": {
        "colab": {
          "base_uri": "https://localhost:8080/"
        },
        "id": "3Zz9UpDmG4O2",
        "outputId": "2def72cf-d235-4b3d-bc35-a45c0578b2dd"
      },
      "outputs": [
        {
          "output_type": "stream",
          "name": "stdout",
          "text": [
            "Enter a region (country/state/city): india\n",
            "\n",
            "COVID-19 Statistics for India:\n",
            "Cases: 100000\n",
            "Recoveries: 80000\n",
            "Deaths: 2000\n"
          ]
        }
      ],
      "source": [
        "def mock_fetch_covid_data(region):\n",
        "    # Simulating a response for demonstration purposes\n",
        "    mock_data = {\n",
        "        \"cases\": 100000,\n",
        "        \"recovered\": 80000,\n",
        "        \"deaths\": 2000\n",
        "    }\n",
        "    return mock_data\n",
        "\n",
        "def get_user_input():\n",
        "    region = input(\"Enter a region (country/state/city): \")\n",
        "    return region\n",
        "\n",
        "def fetch_covid_data(region):\n",
        "    # Replace this with the mock function\n",
        "    return mock_fetch_covid_data(region)\n",
        "\n",
        "def display_statistics(statistics, region):\n",
        "    print(f\"\\nCOVID-19 Statistics for {region.capitalize()}:\")\n",
        "    print(f\"Cases: {statistics['cases']}\")\n",
        "    print(f\"Recoveries: {statistics['recovered']}\")\n",
        "    print(f\"Deaths: {statistics['deaths']}\")\n",
        "\n",
        "def main():\n",
        "    region = get_user_input()\n",
        "    statistics = fetch_covid_data(region)\n",
        "\n",
        "    if statistics:\n",
        "        display_statistics(statistics, region)\n",
        "    else:\n",
        "        print(\"Error fetching data. Please check the region.\")\n",
        "\n",
        "if __name__ == \"__main__\":\n",
        "    main()\n"
      ]
    }
  ]
}