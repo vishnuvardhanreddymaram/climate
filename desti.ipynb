{
  "nbformat": 4,
  "nbformat_minor": 0,
  "metadata": {
    "colab": {
      "provenance": [],
      "authorship_tag": "ABX9TyP2Zo7D6uLhQx07ZMXRB64U",
      "include_colab_link": true
    },
    "kernelspec": {
      "name": "python3",
      "display_name": "Python 3"
    },
    "language_info": {
      "name": "python"
    }
  },
  "cells": [
    {
      "cell_type": "markdown",
      "metadata": {
        "id": "view-in-github",
        "colab_type": "text"
      },
      "source": [
        "<a href=\"https://colab.research.google.com/github/vishnuvardhanreddymaram/climate/blob/main/desti.ipynb\" target=\"_parent\"><img src=\"https://colab.research.google.com/assets/colab-badge.svg\" alt=\"Open In Colab\"/></a>"
      ]
    },
    {
      "cell_type": "code",
      "execution_count": 1,
      "metadata": {
        "colab": {
          "base_uri": "https://localhost:8080/"
        },
        "id": "WCdE-WZQynvj",
        "outputId": "0e790e02-a9f2-4324-a464-6988ebd6f284"
      },
      "outputs": [
        {
          "output_type": "stream",
          "name": "stdout",
          "text": [
            "Enter city name or coordinates (lat,long): chennai\n",
            "Request failed: 401 Unauthorized\n",
            "Error fetching weather data or no data available.\n"
          ]
        }
      ],
      "source": [
        "import http.client\n",
        "import json\n",
        "import urllib.parse\n",
        "\n",
        "def fetch_weather_data(location):\n",
        "    api_key = \"YOUR_API_KEY\"  # Replace with your actual API key\n",
        "    conn = http.client.HTTPSConnection(\"api.openweathermap.org\")\n",
        "\n",
        "    # Encode the location to handle spaces and special characters\n",
        "    encoded_location = urllib.parse.quote(location)\n",
        "\n",
        "    # Construct URL\n",
        "    url = f\"/data/2.5/weather?q={encoded_location}&appid={api_key}&units=metric\"\n",
        "\n",
        "    # Send GET request\n",
        "    conn.request(\"GET\", url)\n",
        "\n",
        "    response = conn.getresponse()\n",
        "    data = response.read()\n",
        "\n",
        "    if response.status == 200:\n",
        "        return json.loads(data)\n",
        "    else:\n",
        "        print(f\"Request failed: {response.status} {response.reason}\")\n",
        "        return None\n",
        "\n",
        "def display_weather(data):\n",
        "    print(\"Current Weather:\")\n",
        "    print(f\"Temperature: {data['main']['temp']} °C\")\n",
        "    print(f\"Conditions: {data['weather'][0]['description']}\")\n",
        "    print(f\"Humidity: {data['main']['humidity']}%\")\n",
        "    print(f\"Wind Speed: {data['wind']['speed']} m/s\")\n",
        "\n",
        "def main():\n",
        "    location = input(\"Enter city name or coordinates (lat,long): \")\n",
        "    weather_data = fetch_weather_data(location)\n",
        "\n",
        "    if weather_data and \"main\" in weather_data:\n",
        "        display_weather(weather_data)\n",
        "    else:\n",
        "        print(\"Error fetching weather data or no data available.\")\n",
        "\n",
        "if __name__ == \"__main__\":\n",
        "    main()\n"
      ]
    }
  ]
}