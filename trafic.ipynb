{
  "nbformat": 4,
  "nbformat_minor": 0,
  "metadata": {
    "colab": {
      "provenance": [],
      "authorship_tag": "ABX9TyNT7Qtt4xq4FRgF4ILzv/4F",
      "include_colab_link": true
    },
    "kernelspec": {
      "name": "python3",
      "display_name": "Python 3"
    },
    "language_info": {
      "name": "python"
    }
  },
  "cells": [
    {
      "cell_type": "markdown",
      "metadata": {
        "id": "view-in-github",
        "colab_type": "text"
      },
      "source": [
        "<a href=\"https://colab.research.google.com/github/vishnuvardhanreddymaram/climate/blob/main/trafic.ipynb\" target=\"_parent\"><img src=\"https://colab.research.google.com/assets/colab-badge.svg\" alt=\"Open In Colab\"/></a>"
      ]
    },
    {
      "cell_type": "code",
      "execution_count": 1,
      "metadata": {
        "colab": {
          "base_uri": "https://localhost:8080/",
          "height": 391
        },
        "id": "yairnFPQGi1R",
        "outputId": "e59101fd-13d0-405d-c997-0eda227435a5"
      },
      "outputs": [
        {
          "output_type": "stream",
          "name": "stdout",
          "text": [
            "Enter starting point: delhi\n",
            "Enter destination: hyderabad\n",
            "Error fetching traffic data: Invalid request. Missing the 'departure_time' parameter.\n"
          ]
        },
        {
          "output_type": "error",
          "ename": "IndexError",
          "evalue": "list index out of range",
          "traceback": [
            "\u001b[0;31m---------------------------------------------------------------------------\u001b[0m",
            "\u001b[0;31mIndexError\u001b[0m                                Traceback (most recent call last)",
            "\u001b[0;32m<ipython-input-1-3c9b2bcaf153>\u001b[0m in \u001b[0;36m<cell line: 50>\u001b[0;34m()\u001b[0m\n\u001b[1;32m     49\u001b[0m \u001b[0;34m\u001b[0m\u001b[0m\n\u001b[1;32m     50\u001b[0m \u001b[0;32mif\u001b[0m \u001b[0m__name__\u001b[0m \u001b[0;34m==\u001b[0m \u001b[0;34m\"__main__\"\u001b[0m\u001b[0;34m:\u001b[0m\u001b[0;34m\u001b[0m\u001b[0;34m\u001b[0m\u001b[0m\n\u001b[0;32m---> 51\u001b[0;31m     \u001b[0mmain\u001b[0m\u001b[0;34m(\u001b[0m\u001b[0;34m)\u001b[0m\u001b[0;34m\u001b[0m\u001b[0;34m\u001b[0m\u001b[0m\n\u001b[0m\u001b[1;32m     52\u001b[0m \u001b[0;34m\u001b[0m\u001b[0m\n",
            "\u001b[0;32m<ipython-input-1-3c9b2bcaf153>\u001b[0m in \u001b[0;36mmain\u001b[0;34m()\u001b[0m\n\u001b[1;32m     45\u001b[0m     \u001b[0mdisplay_traffic_info\u001b[0m\u001b[0;34m(\u001b[0m\u001b[0mtraffic_data\u001b[0m\u001b[0;34m)\u001b[0m\u001b[0;34m\u001b[0m\u001b[0;34m\u001b[0m\u001b[0m\n\u001b[1;32m     46\u001b[0m \u001b[0;34m\u001b[0m\u001b[0m\n\u001b[0;32m---> 47\u001b[0;31m     \u001b[0;32mif\u001b[0m \u001b[0msuggest_alternative_routes\u001b[0m\u001b[0;34m(\u001b[0m\u001b[0mtraffic_data\u001b[0m\u001b[0;34m)\u001b[0m\u001b[0;34m:\u001b[0m\u001b[0;34m\u001b[0m\u001b[0;34m\u001b[0m\u001b[0m\n\u001b[0m\u001b[1;32m     48\u001b[0m         \u001b[0mprint\u001b[0m\u001b[0;34m(\u001b[0m\u001b[0;34m\"Consider alternative routes.\"\u001b[0m\u001b[0;34m)\u001b[0m\u001b[0;34m\u001b[0m\u001b[0;34m\u001b[0m\u001b[0m\n\u001b[1;32m     49\u001b[0m \u001b[0;34m\u001b[0m\u001b[0m\n",
            "\u001b[0;32m<ipython-input-1-3c9b2bcaf153>\u001b[0m in \u001b[0;36msuggest_alternative_routes\u001b[0;34m(traffic_data)\u001b[0m\n\u001b[1;32m     34\u001b[0m \u001b[0;34m\u001b[0m\u001b[0m\n\u001b[1;32m     35\u001b[0m \u001b[0;32mdef\u001b[0m \u001b[0msuggest_alternative_routes\u001b[0m\u001b[0;34m(\u001b[0m\u001b[0mtraffic_data\u001b[0m\u001b[0;34m)\u001b[0m\u001b[0;34m:\u001b[0m\u001b[0;34m\u001b[0m\u001b[0;34m\u001b[0m\u001b[0m\n\u001b[0;32m---> 36\u001b[0;31m     \u001b[0mroute\u001b[0m \u001b[0;34m=\u001b[0m \u001b[0mtraffic_data\u001b[0m\u001b[0;34m[\u001b[0m\u001b[0;34m'routes'\u001b[0m\u001b[0;34m]\u001b[0m\u001b[0;34m[\u001b[0m\u001b[0;36m0\u001b[0m\u001b[0;34m]\u001b[0m\u001b[0;34m\u001b[0m\u001b[0;34m\u001b[0m\u001b[0m\n\u001b[0m\u001b[1;32m     37\u001b[0m     \u001b[0;32mif\u001b[0m \u001b[0mroute\u001b[0m\u001b[0;34m[\u001b[0m\u001b[0;34m'legs'\u001b[0m\u001b[0;34m]\u001b[0m\u001b[0;34m[\u001b[0m\u001b[0;36m0\u001b[0m\u001b[0;34m]\u001b[0m\u001b[0;34m[\u001b[0m\u001b[0;34m'duration_in_traffic'\u001b[0m\u001b[0;34m]\u001b[0m\u001b[0;34m[\u001b[0m\u001b[0;34m'value'\u001b[0m\u001b[0;34m]\u001b[0m \u001b[0;34m>\u001b[0m \u001b[0mroute\u001b[0m\u001b[0;34m[\u001b[0m\u001b[0;34m'legs'\u001b[0m\u001b[0;34m]\u001b[0m\u001b[0;34m[\u001b[0m\u001b[0;36m0\u001b[0m\u001b[0;34m]\u001b[0m\u001b[0;34m[\u001b[0m\u001b[0;34m'duration'\u001b[0m\u001b[0;34m]\u001b[0m\u001b[0;34m[\u001b[0m\u001b[0;34m'value'\u001b[0m\u001b[0;34m]\u001b[0m \u001b[0;34m*\u001b[0m \u001b[0;36m1.5\u001b[0m\u001b[0;34m:\u001b[0m\u001b[0;34m\u001b[0m\u001b[0;34m\u001b[0m\u001b[0m\n\u001b[1;32m     38\u001b[0m         \u001b[0mprint\u001b[0m\u001b[0;34m(\u001b[0m\u001b[0;34m\"Traffic is heavy, looking for alternatives...\"\u001b[0m\u001b[0;34m)\u001b[0m\u001b[0;34m\u001b[0m\u001b[0;34m\u001b[0m\u001b[0m\n",
            "\u001b[0;31mIndexError\u001b[0m: list index out of range"
          ]
        }
      ],
      "source": [
        "import http.client\n",
        "import json\n",
        "from urllib.parse import quote\n",
        "\n",
        "API_KEY = 'YOUR_API_KEY'  # Replace with your Google Maps API Key\n",
        "BASE_URL = 'maps.googleapis.com'\n",
        "\n",
        "def get_user_input():\n",
        "    starting_point = input(\"Enter starting point: \")\n",
        "    destination = input(\"Enter destination: \")\n",
        "    return starting_point, destination\n",
        "\n",
        "def fetch_traffic_data(starting_point, destination):\n",
        "    conn = http.client.HTTPSConnection(BASE_URL)\n",
        "    endpoint = f\"/maps/api/directions/json?origin={quote(starting_point)}&destination={quote(destination)}&key={API_KEY}&traffic_model=best_guess\"\n",
        "    conn.request(\"GET\", endpoint)\n",
        "    response = conn.getresponse()\n",
        "    traffic_data = json.loads(response.read())\n",
        "    conn.close()\n",
        "    return traffic_data\n",
        "\n",
        "def display_traffic_info(traffic_data):\n",
        "    if traffic_data['status'] == 'OK':\n",
        "        route = traffic_data['routes'][0]\n",
        "        duration = route['legs'][0]['duration']['text']\n",
        "        traffic_condition = route['legs'][0]['duration_in_traffic']['text']\n",
        "        incidents = route['legs'][0].get('incidents', 'No incidents reported.')\n",
        "\n",
        "        print(f\"Current traffic condition: {traffic_condition}\")\n",
        "        print(f\"Estimated travel time: {duration}\")\n",
        "        print(f\"Incidents: {incidents}\")\n",
        "    else:\n",
        "        print(\"Error fetching traffic data:\", traffic_data['error_message'])\n",
        "\n",
        "def suggest_alternative_routes(traffic_data):\n",
        "    route = traffic_data['routes'][0]\n",
        "    if route['legs'][0]['duration_in_traffic']['value'] > route['legs'][0]['duration']['value'] * 1.5:\n",
        "        print(\"Traffic is heavy, looking for alternatives...\")\n",
        "        return True\n",
        "    return False\n",
        "\n",
        "def main():\n",
        "    starting_point, destination = get_user_input()\n",
        "    traffic_data = fetch_traffic_data(starting_point, destination)\n",
        "    display_traffic_info(traffic_data)\n",
        "\n",
        "    if suggest_alternative_routes(traffic_data):\n",
        "        print(\"Consider alternative routes.\")\n",
        "\n",
        "if __name__ == \"__main__\":\n",
        "    main()\n",
        "\n"
      ]
    }
  ]
}